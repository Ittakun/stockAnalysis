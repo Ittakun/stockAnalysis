{
 "cells": [
  {
   "cell_type": "code",
   "execution_count": 1,
   "metadata": {},
   "outputs": [],
   "source": [
    "# 基本パッケージ（numpy,Pandas,matplotlib）\n",
    "import numpy as np\n",
    "import pandas as pd\n",
    "import matplotlib.pyplot as plt\n",
    "# サポートベクターマシーン\n",
    "from sklearn import svm\n",
    "# train_test_split（データを分割出してくれる）\n",
    "from sklearn.model_selection import train_test_split\n",
    "# accuracy_score（正解率を測れる）\n",
    "from sklearn.metrics import accuracy_score\n",
    "# グリッドサーチ（ハイパーパラメータを自動的に最適化してくれる）\n",
    "from sklearn.model_selection import GridSearchCV\n",
    "# 正規化、標準化用\n",
    "from sklearn.preprocessing import StandardScaler\n",
    "from sklearn.preprocessing import MinMaxScaler\n",
    "# 特徴量選択用\n",
    "from sklearn.feature_selection import SelectKBest\n",
    "from sklearn.feature_selection import RFE\n",
    "from sklearn.ensemble import RandomForestRegressor"
   ]
  },
  {
   "cell_type": "code",
   "execution_count": 2,
   "metadata": {},
   "outputs": [
    {
     "name": "stdout",
     "output_type": "stream",
     "text": [
      "              日付     始値     高値     安値     終値      出来高  終値調整値\n",
      "0     2001-07-13  12490  12490  12300  12310   259430  12310\n",
      "1     2001-07-16  12400  12400  12250  12330    99740  12330\n",
      "2     2001-07-17  12170  12170  12100  12120    93150  12120\n",
      "3     2001-07-18  12150  12150  11830  11840   165330  11840\n",
      "4     2001-07-19  11990  11990  11860  11920   620220  11920\n",
      "5     2001-07-23  11950  11950  11540  11570   170700  11570\n",
      "6     2001-07-24  11560  11860  11560  11840   173370  11840\n",
      "7     2001-07-25  11750  12020  11750  11860   207180  11860\n",
      "8     2001-07-26  11940  11960  11810  11830   396780  11830\n",
      "9     2001-07-27  11790  11940  11690  11820  1801620  11820\n",
      "10    2001-07-30  11900  11900  11540  11580   311850  11580\n",
      "11    2001-07-31  11670  11870  11660  11850   183190  11850\n",
      "12    2001-08-01  11950  12000  11810  12000   310730  12000\n",
      "13    2001-08-02  12120  12420  12120  12390   640190  12390\n",
      "14    2001-08-03  12360  12360  12230  12240   299960  12240\n",
      "15    2001-08-06  12160  12320  12100  12280   204600  12280\n",
      "16    2001-08-07  12110  12390  12060  12290   238960  12290\n",
      "17    2001-08-08  12270  12290  12130  12150   243030  12150\n",
      "18    2001-08-09  12000  12020  11740  11740   284070  11740\n",
      "19    2001-08-10  11840  11860  11720  11750   294380  11750\n",
      "20    2001-08-13  11670  11670  11420  11520   249010  11520\n",
      "21    2001-08-14  11630  11950  11600  11950   191560  11950\n",
      "22    2001-08-15  11840  11840  11650  11730   217690  11730\n",
      "23    2001-08-16  11550  11590  11450  11520   187770  11520\n",
      "24    2001-08-17  11580  11580  11420  11430   156940  11430\n",
      "25    2001-08-20  11300  11400  11220  11260   157780  11260\n",
      "26    2001-08-21  11350  11440  11160  11320    91630  11320\n",
      "27    2001-08-22  11200  11500  11190  11400   145190  11400\n",
      "28    2001-08-23  11430  11430  11120  11140   190500  11140\n",
      "29    2001-08-24  11200  11250  11090  11190   120990  11190\n",
      "...          ...    ...    ...    ...    ...      ...    ...\n",
      "4158  2018-06-28  23040  23120  22870  23080   307174  23080\n",
      "4159  2018-06-29  23150  23150  22970  23110   104995  23110\n",
      "4160  2018-07-02  23060  23140  22610  22610   590903  22610\n",
      "4161  2018-07-03  22730  22770  22380  22620   842752  22620\n",
      "4162  2018-07-04  22160  22250  22070  22200   561608  22200\n",
      "4163  2018-07-05  22160  22220  21920  22020   307927  22020\n",
      "4164  2018-07-06  22130  22330  22090  22270   278391  22270\n",
      "4165  2018-07-09  22350  22560  22320  22500   143378  22500\n",
      "4166  2018-07-10  22690  22790  22660  22690   264340  22690\n",
      "4167  2018-07-11  22490  22510  22210  22390   255746  22390\n",
      "4168  2018-07-12  22490  22700  22490  22670   117819  22670\n",
      "4169  2018-07-13  22910  23160  22900  23080   421205  23080\n",
      "4170  2018-07-17  23080  23320  23060  23180   247056  23180\n",
      "4171  2018-07-18  23380  23430  23260  23260   262895  23260\n",
      "4172  2018-07-19  23360  23390  23230  23240   240922  23240\n",
      "4173  2018-07-20  23200  23350  23010  23180   245330  23180\n",
      "4174  2018-07-23  22940  22980  22810  22860   203782  22860\n",
      "4175  2018-07-24  23010  23030  22880  22990   112080  22990\n",
      "4176  2018-07-25  23080  23120  23010  23060   135516  23060\n",
      "4177  2018-07-26  23110  23110  23010  23040   121069  23040\n",
      "4178  2018-07-27  23110  23170  23060  23170   100846  23170\n",
      "4179  2018-07-30  23070  23100  22980  23010   115268  23010\n",
      "4180  2018-07-31  22930  23170  22820  23040   259912  23040\n",
      "4181  2018-08-02  23140  23230  22930  22970   239299  22970\n",
      "4182  2018-08-03  23080  23100  22970  22990   152571  22990\n",
      "4183  2018-08-06  23010  23100  22960  22990    86172  22990\n",
      "4184  2018-08-07  23030  23130  23000  23120   107400  23120\n",
      "4185  2018-08-08  23120  23270  23080  23140   144597  23140\n",
      "4186  2018-08-09  23060  23110  22970  23090   105585  23090\n",
      "4187  2018-08-10  23080  23090  22740  22770   411160  22770\n",
      "\n",
      "[4188 rows x 7 columns]\n"
     ]
    }
   ],
   "source": [
    "# 株価データの読み込み\n",
    "stock_data = pd.read_csv(\"stock_price.csv\", encoding=\"shift-jis\")\n",
    "print(stock_data)"
   ]
  },
  {
   "cell_type": "code",
   "execution_count": 3,
   "metadata": {},
   "outputs": [],
   "source": [
    "# 要素数の設定\n",
    "count_s = len(stock_data)"
   ]
  },
  {
   "cell_type": "code",
   "execution_count": 4,
   "metadata": {},
   "outputs": [],
   "source": [
    "# 各要素を上昇率へ変換する\n",
    "modified_data = np.zeros((0,6))\n",
    "for i in range(1,count_s):\n",
    "    modified_data = np.append(\n",
    "        modified_data, \n",
    "        np.array([[float(stock_data.loc[i,['始値']] - stock_data.loc[i-1,['始値']])/float(stock_data.loc[i-1,['始値']]),\n",
    "                   float(stock_data.loc[i,['高値']] - stock_data.loc[i-1,['高値']])/float(stock_data.loc[i-1,['高値']]),\n",
    "                   float(stock_data.loc[i,['安値']] - stock_data.loc[i-1,['安値']])/float(stock_data.loc[i-1,['安値']]),\n",
    "                   float(stock_data.loc[i,['終値']] - stock_data.loc[i-1,['終値']])/float(stock_data.loc[i-1,['終値']]),\n",
    "                   float(stock_data.loc[i,['出来高']] - stock_data.loc[i-1,['出来高']])/float(stock_data.loc[i-1,['出来高']]),\n",
    "                   float(stock_data.loc[i,['終値調整値']] - stock_data.loc[i-1,['終値調整値']])/float(stock_data.loc[i-1,['終値調整値']])]]),\n",
    "        axis = 0)"
   ]
  },
  {
   "cell_type": "code",
   "execution_count": 5,
   "metadata": {},
   "outputs": [],
   "source": [
    "# 要素数の設定\n",
    "count_m = len(modified_data)\n",
    "\n",
    "# 最終日のデータを削除\n",
    "successive_data = np.delete(modified_data ,count_m - 1, axis=0)\n",
    "\n",
    "# 正解値を格納するリスト　価格上昇: 1 価格低下:0\n",
    "answers = []\n",
    "\n",
    "# 正解値の格納\n",
    "for i in range(1, count_m):\n",
    "    # 上昇率が0以上なら1、そうでないなら0を格納\n",
    "    if modified_data[i,3] > 0:\n",
    "        answers.append(1)\n",
    "    else:\n",
    "        answers.append(0)\n",
    " "
   ]
  },
  {
   "cell_type": "code",
   "execution_count": 6,
   "metadata": {},
   "outputs": [],
   "source": [
    "# データの分割（データの80%を訓練用に、20％をテスト用に分割する）\n",
    "X_train, X_test, y_train, y_test = train_test_split(successive_data, answers, test_size=0.2, random_state=1,shuffle=False)"
   ]
  },
  {
   "cell_type": "code",
   "execution_count": 7,
   "metadata": {},
   "outputs": [
    {
     "name": "stdout",
     "output_type": "stream",
     "text": [
      "最適パラメータ：{'C': 1, 'loss': 'squared_hinge'}\n"
     ]
    }
   ],
   "source": [
    "# グリッドサーチするパラメータを設定\n",
    "parameters = {'C':[1, 3, 5],'loss':('hinge', 'squared_hinge')}\n",
    " \n",
    "# グリッドサーチを実行\n",
    "clf = GridSearchCV(svm.LinearSVC(), parameters)\n",
    "clf.fit(X_train, y_train) \n",
    " \n",
    "# グリッドサーチ結果(最適パラメータ)を取得\n",
    "GS_C, GS_loss = clf.best_params_.values()\n",
    "print (\"最適パラメータ：{}\".format(clf.best_params_))"
   ]
  },
  {
   "cell_type": "code",
   "execution_count": 8,
   "metadata": {},
   "outputs": [
    {
     "data": {
      "text/plain": [
       "LinearSVC(C=1, class_weight=None, dual=True, fit_intercept=True,\n",
       "     intercept_scaling=1, loss='squared_hinge', max_iter=1000,\n",
       "     multi_class='ovr', penalty='l2', random_state=1, tol=0.0001,\n",
       "     verbose=0)"
      ]
     },
     "execution_count": 8,
     "metadata": {},
     "output_type": "execute_result"
    }
   ],
   "source": [
    "# 最適パラメーターを指定して学習\n",
    "clf = svm.LinearSVC(loss=GS_loss, C=GS_C,random_state=1)\n",
    "clf.fit(X_train , y_train)"
   ]
  },
  {
   "cell_type": "code",
   "execution_count": 9,
   "metadata": {},
   "outputs": [],
   "source": [
    "# 学習後のモデルによるテスト\n",
    "# トレーニングデータを用いた予測\n",
    "y_train_pred = clf.predict(X_train)\n",
    "# テストデータを用いた予測\n",
    "y_val_pred = clf.predict(X_test)"
   ]
  },
  {
   "cell_type": "code",
   "execution_count": 10,
   "metadata": {},
   "outputs": [
    {
     "name": "stdout",
     "output_type": "stream",
     "text": [
      "トレーニングデータに対する正解率：51.76224611708483%\n",
      "テストデータに対する正解率：48.21002386634845%\n"
     ]
    }
   ],
   "source": [
    "# 正解率の計算\n",
    "train_score = accuracy_score(y_train, y_train_pred)\n",
    "test_score = accuracy_score(y_test, y_val_pred)\n",
    "# 正解率を表示\n",
    "print(\"トレーニングデータに対する正解率：\" + str(train_score * 100) + \"%\")\n",
    "print(\"テストデータに対する正解率：\" + str(test_score * 100) + \"%\")"
   ]
  }
 ],
 "metadata": {
  "kernelspec": {
   "display_name": "Python 3",
   "language": "python",
   "name": "python3"
  },
  "language_info": {
   "codemirror_mode": {
    "name": "ipython",
    "version": 3
   },
   "file_extension": ".py",
   "mimetype": "text/x-python",
   "name": "python",
   "nbconvert_exporter": "python",
   "pygments_lexer": "ipython3",
   "version": "3.6.6"
  }
 },
 "nbformat": 4,
 "nbformat_minor": 2
}
