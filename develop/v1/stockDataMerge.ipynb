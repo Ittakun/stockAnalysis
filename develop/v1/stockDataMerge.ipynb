{
 "cells": [
  {
   "cell_type": "code",
   "execution_count": 1,
   "metadata": {},
   "outputs": [],
   "source": [
    "# Pandas、globのimport\n",
    "import pandas as pd\n",
    "import glob"
   ]
  },
  {
   "cell_type": "code",
   "execution_count": 5,
   "metadata": {},
   "outputs": [],
   "source": [
    "# 2001～2018年の株価データをマージする\n",
    "# globでファイル名の一覧を取得\n",
    "stock_price_files = glob.glob('stockPrice/*.csv')\n",
    "stock_price_list = []\n",
    "\n",
    "# ファイルを読み込み、DataFrameでlistに格納する。\n",
    "for f in stock_price_files:\n",
    "    stock_price_list.append(pd.read_csv(f, header=1, encoding=\"shift-jis\"))\n",
    "    \n",
    "# Listに格納されたデータを全てconcat関数で連結    \n",
    "stock_price_all = pd.concat(stock_price_list)\n",
    "stock_price_all.to_csv(\"stock_price.csv\",index = False, encoding=\"shift-jis\")\n"
   ]
  },
  {
   "cell_type": "code",
   "execution_count": null,
   "metadata": {},
   "outputs": [],
   "source": []
  }
 ],
 "metadata": {
  "kernelspec": {
   "display_name": "Python 3",
   "language": "python",
   "name": "python3"
  },
  "language_info": {
   "codemirror_mode": {
    "name": "ipython",
    "version": 3
   },
   "file_extension": ".py",
   "mimetype": "text/x-python",
   "name": "python",
   "nbconvert_exporter": "python",
   "pygments_lexer": "ipython3",
   "version": "3.6.6"
  }
 },
 "nbformat": 4,
 "nbformat_minor": 2
}
