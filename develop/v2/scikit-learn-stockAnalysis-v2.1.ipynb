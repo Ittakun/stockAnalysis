{
 "cells": [
  {
   "cell_type": "code",
   "execution_count": 1,
   "metadata": {},
   "outputs": [],
   "source": [
    "# 基本パッケージ（numpy,Pandas,matplotlib）\n",
    "import numpy as np\n",
    "import pandas as pd\n",
    "import matplotlib.pyplot as plt\n",
    "# 線形サポートベクターマシーン\n",
    "from sklearn.svm import LinearSVC\n",
    "# train_test_split（データを分割出してくれる）\n",
    "from sklearn.model_selection import train_test_split\n",
    "# accuracy_score（正解率を測れる）\n",
    "from sklearn.metrics import accuracy_score\n",
    "# グリッドサーチ（ハイパーパラメータを自動的に最適化してくれる）\n",
    "from sklearn.model_selection import GridSearchCV\n",
    "# 正規化\n",
    "from sklearn.preprocessing import MinMaxScaler\n",
    "# 交差検証\n",
    "from sklearn.model_selection import cross_val_score"
   ]
  },
  {
   "cell_type": "code",
   "execution_count": 2,
   "metadata": {},
   "outputs": [],
   "source": [
    "# 表示関連\n",
    "# DataFrameの列数設定\n",
    "pd.set_option('display.max_columns', 500)"
   ]
  },
  {
   "cell_type": "code",
   "execution_count": 3,
   "metadata": {},
   "outputs": [
    {
     "data": {
      "text/html": [
       "<div>\n",
       "<style scoped>\n",
       "    .dataframe tbody tr th:only-of-type {\n",
       "        vertical-align: middle;\n",
       "    }\n",
       "\n",
       "    .dataframe tbody tr th {\n",
       "        vertical-align: top;\n",
       "    }\n",
       "\n",
       "    .dataframe thead th {\n",
       "        text-align: right;\n",
       "    }\n",
       "</style>\n",
       "<table border=\"1\" class=\"dataframe\">\n",
       "  <thead>\n",
       "    <tr style=\"text-align: right;\">\n",
       "      <th></th>\n",
       "      <th>Open</th>\n",
       "      <th>High</th>\n",
       "      <th>Low</th>\n",
       "      <th>Volume</th>\n",
       "      <th>Adj Close</th>\n",
       "      <th>GBP</th>\n",
       "      <th>CAD</th>\n",
       "      <th>CHF</th>\n",
       "      <th>SEK</th>\n",
       "      <th>AUD</th>\n",
       "      <th>ZAR</th>\n",
       "      <th>IDR(100)</th>\n",
       "      <th>INR</th>\n",
       "      <th>PHP</th>\n",
       "      <th>SGD</th>\n",
       "      <th>KRW(100)</th>\n",
       "      <th>THB</th>\n",
       "      <th>KWD</th>\n",
       "      <th>TWD</th>\n",
       "      <th>answer</th>\n",
       "    </tr>\n",
       "  </thead>\n",
       "  <tbody>\n",
       "    <tr>\n",
       "      <th>0</th>\n",
       "      <td>-0.004444</td>\n",
       "      <td>0.000000</td>\n",
       "      <td>0.004525</td>\n",
       "      <td>-0.514297</td>\n",
       "      <td>0.010801</td>\n",
       "      <td>0.010485</td>\n",
       "      <td>-0.001198</td>\n",
       "      <td>0.010974</td>\n",
       "      <td>0.010101</td>\n",
       "      <td>-0.001687</td>\n",
       "      <td>0.001701</td>\n",
       "      <td>0.007299</td>\n",
       "      <td>0.000000</td>\n",
       "      <td>0.003831</td>\n",
       "      <td>-0.000415</td>\n",
       "      <td>0.000000</td>\n",
       "      <td>-0.003257</td>\n",
       "      <td>0.002004</td>\n",
       "      <td>0.000000</td>\n",
       "      <td>1.0</td>\n",
       "    </tr>\n",
       "    <tr>\n",
       "      <th>1</th>\n",
       "      <td>-0.006250</td>\n",
       "      <td>0.024889</td>\n",
       "      <td>-0.003604</td>\n",
       "      <td>2.643314</td>\n",
       "      <td>0.018700</td>\n",
       "      <td>-0.002711</td>\n",
       "      <td>0.003238</td>\n",
       "      <td>-0.001622</td>\n",
       "      <td>-0.003846</td>\n",
       "      <td>0.001690</td>\n",
       "      <td>0.009338</td>\n",
       "      <td>-0.007246</td>\n",
       "      <td>0.003663</td>\n",
       "      <td>0.000000</td>\n",
       "      <td>-0.000831</td>\n",
       "      <td>-0.008893</td>\n",
       "      <td>-0.006536</td>\n",
       "      <td>0.003609</td>\n",
       "      <td>0.000000</td>\n",
       "      <td>1.0</td>\n",
       "    </tr>\n",
       "    <tr>\n",
       "      <th>2</th>\n",
       "      <td>0.026954</td>\n",
       "      <td>0.004337</td>\n",
       "      <td>0.028933</td>\n",
       "      <td>0.208818</td>\n",
       "      <td>0.000874</td>\n",
       "      <td>-0.000680</td>\n",
       "      <td>0.000837</td>\n",
       "      <td>0.002000</td>\n",
       "      <td>-0.001544</td>\n",
       "      <td>-0.004639</td>\n",
       "      <td>0.010934</td>\n",
       "      <td>0.000000</td>\n",
       "      <td>-0.003650</td>\n",
       "      <td>-0.003817</td>\n",
       "      <td>0.001941</td>\n",
       "      <td>-0.000997</td>\n",
       "      <td>0.003289</td>\n",
       "      <td>-0.003367</td>\n",
       "      <td>0.000000</td>\n",
       "      <td>0.0</td>\n",
       "    </tr>\n",
       "    <tr>\n",
       "      <th>3</th>\n",
       "      <td>0.000000</td>\n",
       "      <td>-0.011226</td>\n",
       "      <td>-0.002636</td>\n",
       "      <td>-0.317789</td>\n",
       "      <td>-0.003493</td>\n",
       "      <td>-0.007273</td>\n",
       "      <td>-0.009078</td>\n",
       "      <td>-0.008855</td>\n",
       "      <td>-0.004640</td>\n",
       "      <td>-0.006779</td>\n",
       "      <td>-0.015807</td>\n",
       "      <td>0.000000</td>\n",
       "      <td>-0.007326</td>\n",
       "      <td>-0.003831</td>\n",
       "      <td>-0.005674</td>\n",
       "      <td>0.000998</td>\n",
       "      <td>-0.003279</td>\n",
       "      <td>-0.006665</td>\n",
       "      <td>-0.005236</td>\n",
       "      <td>1.0</td>\n",
       "    </tr>\n",
       "    <tr>\n",
       "      <th>4</th>\n",
       "      <td>-0.004374</td>\n",
       "      <td>0.001747</td>\n",
       "      <td>-0.003524</td>\n",
       "      <td>-0.435145</td>\n",
       "      <td>-0.002629</td>\n",
       "      <td>-0.006324</td>\n",
       "      <td>-0.001929</td>\n",
       "      <td>-0.005914</td>\n",
       "      <td>-0.003885</td>\n",
       "      <td>-0.008105</td>\n",
       "      <td>0.007608</td>\n",
       "      <td>0.007299</td>\n",
       "      <td>-0.003690</td>\n",
       "      <td>-0.007692</td>\n",
       "      <td>-0.001253</td>\n",
       "      <td>-0.012961</td>\n",
       "      <td>-0.003289</td>\n",
       "      <td>-0.005992</td>\n",
       "      <td>-0.007895</td>\n",
       "      <td>0.0</td>\n",
       "    </tr>\n",
       "  </tbody>\n",
       "</table>\n",
       "</div>"
      ],
      "text/plain": [
       "       Open      High       Low    Volume  Adj Close       GBP       CAD  \\\n",
       "0 -0.004444  0.000000  0.004525 -0.514297   0.010801  0.010485 -0.001198   \n",
       "1 -0.006250  0.024889 -0.003604  2.643314   0.018700 -0.002711  0.003238   \n",
       "2  0.026954  0.004337  0.028933  0.208818   0.000874 -0.000680  0.000837   \n",
       "3  0.000000 -0.011226 -0.002636 -0.317789  -0.003493 -0.007273 -0.009078   \n",
       "4 -0.004374  0.001747 -0.003524 -0.435145  -0.002629 -0.006324 -0.001929   \n",
       "\n",
       "        CHF       SEK       AUD       ZAR  IDR(100)       INR       PHP  \\\n",
       "0  0.010974  0.010101 -0.001687  0.001701  0.007299  0.000000  0.003831   \n",
       "1 -0.001622 -0.003846  0.001690  0.009338 -0.007246  0.003663  0.000000   \n",
       "2  0.002000 -0.001544 -0.004639  0.010934  0.000000 -0.003650 -0.003817   \n",
       "3 -0.008855 -0.004640 -0.006779 -0.015807  0.000000 -0.007326 -0.003831   \n",
       "4 -0.005914 -0.003885 -0.008105  0.007608  0.007299 -0.003690 -0.007692   \n",
       "\n",
       "        SGD  KRW(100)       THB       KWD       TWD  answer  \n",
       "0 -0.000415  0.000000 -0.003257  0.002004  0.000000     1.0  \n",
       "1 -0.000831 -0.008893 -0.006536  0.003609  0.000000     1.0  \n",
       "2  0.001941 -0.000997  0.003289 -0.003367  0.000000     0.0  \n",
       "3 -0.005674  0.000998 -0.003279 -0.006665 -0.005236     1.0  \n",
       "4 -0.001253 -0.012961 -0.003289 -0.005992 -0.007895     0.0  "
      ]
     },
     "execution_count": 3,
     "metadata": {},
     "output_type": "execute_result"
    }
   ],
   "source": [
    "# 株価データの読み込み\n",
    "stock_data = pd.read_csv(\"stock_Price_Prediction_v2.1.csv\", encoding=\"shift-jis\")\n",
    "\n",
    "# 読み込みデータの表示\n",
    "stock_data.head()"
   ]
  },
  {
   "cell_type": "code",
   "execution_count": 4,
   "metadata": {},
   "outputs": [],
   "source": [
    "# DataFrameをNumPy配列へ変換\n",
    "# 正解ラベルの変換\n",
    "answers = stock_data.answer.values\n",
    "# 説明変数の変換\n",
    "stock_data.drop(columns=['answer'], inplace=True)\n",
    "explanatory_variable = stock_data.values"
   ]
  },
  {
   "cell_type": "code",
   "execution_count": 5,
   "metadata": {},
   "outputs": [],
   "source": [
    "# データの正規化        \n",
    "ms = MinMaxScaler()\n",
    "ms.fit(explanatory_variable)\n",
    "explanatory_variable = ms.transform(explanatory_variable)"
   ]
  },
  {
   "cell_type": "code",
   "execution_count": 6,
   "metadata": {},
   "outputs": [],
   "source": [
    "# データの分割（データの80%を訓練用に、20％をテスト用に分割する）\n",
    "X_train, X_test, y_train, y_test = train_test_split(explanatory_variable, answers, test_size=0.2, random_state=1,shuffle = False)"
   ]
  },
  {
   "cell_type": "code",
   "execution_count": 7,
   "metadata": {},
   "outputs": [
    {
     "name": "stdout",
     "output_type": "stream",
     "text": [
      "最適パラメータ：{'C': 0.01, 'loss': 'hinge'}\n"
     ]
    }
   ],
   "source": [
    "# グリッドサーチするパラメータを設定\n",
    "parameters = {'C':[0.01,0.1,1,10,100],'loss':['hinge', 'squared_hinge']}\n",
    "# グリッドサーチを実行\n",
    "lsvc =  LinearSVC(random_state=1)\n",
    "grid_search = GridSearchCV(lsvc, param_grid=parameters, cv=5)\n",
    "grid_search = grid_search.fit(X_train , y_train)\n",
    "\n",
    "# グリッドサーチ結果(最適パラメータ)を取得\n",
    "GS_C, GS_loss = grid_search.best_params_.values()\n",
    "print (\"最適パラメータ：{}\".format(grid_search.best_params_))"
   ]
  },
  {
   "cell_type": "code",
   "execution_count": 8,
   "metadata": {},
   "outputs": [
    {
     "data": {
      "text/plain": [
       "LinearSVC(C=0.01, class_weight=None, dual=True, fit_intercept=True,\n",
       "     intercept_scaling=1, loss='hinge', max_iter=1000, multi_class='ovr',\n",
       "     penalty='l2', random_state=1, tol=0.0001, verbose=0)"
      ]
     },
     "execution_count": 8,
     "metadata": {},
     "output_type": "execute_result"
    }
   ],
   "source": [
    "# 最適パラメーターを指定して学習\n",
    "clf = LinearSVC(loss=GS_loss, C=GS_C, random_state=1)\n",
    "clf.fit(X_train , y_train)"
   ]
  },
  {
   "cell_type": "code",
   "execution_count": 9,
   "metadata": {},
   "outputs": [],
   "source": [
    "# 学習後のモデルによるテスト\n",
    "# トレーニングデータを用いた予測\n",
    "y_train_pred = clf.predict(X_train)\n",
    "# テストデータを用いた予測\n",
    "y_val_pred = clf.predict(X_test)"
   ]
  },
  {
   "cell_type": "code",
   "execution_count": 10,
   "metadata": {},
   "outputs": [
    {
     "name": "stdout",
     "output_type": "stream",
     "text": [
      "トレーニングデータに対する正解率：51.667186039264564%\n",
      "テストデータに対する正解率：51.18306351183064%\n"
     ]
    }
   ],
   "source": [
    "# 正解率の計算\n",
    "train_score = accuracy_score(y_train, y_train_pred)\n",
    "test_score = accuracy_score(y_test, y_val_pred)\n",
    "# 正解率を表示\n",
    "print(\"トレーニングデータに対する正解率：\" + str(train_score * 100) + \"%\")\n",
    "print(\"テストデータに対する正解率：\" + str(test_score * 100) + \"%\")"
   ]
  },
  {
   "cell_type": "code",
   "execution_count": 11,
   "metadata": {},
   "outputs": [
    {
     "name": "stdout",
     "output_type": "stream",
     "text": [
      "Cross-Validation scores: [0.51492537 0.51492537 0.51492537 0.51620948 0.51620948 0.51620948\n",
      " 0.51620948 0.51620948 0.51620948 0.515     ]\n",
      "Average score: 0.5157032977258347\n"
     ]
    }
   ],
   "source": [
    "#  交差検証\n",
    "## 10分割し交差検証\n",
    "scores = cross_val_score(clf, explanatory_variable, answers, cv = 10)\n",
    "## 各分割におけるスコア\n",
    "print('Cross-Validation scores: {}'.format(scores))\n",
    "## スコアの平均値\n",
    "print('Average score: {}'.format(np.mean(scores)))"
   ]
  }
 ],
 "metadata": {
  "kernelspec": {
   "display_name": "Python 3",
   "language": "python",
   "name": "python3"
  },
  "language_info": {
   "codemirror_mode": {
    "name": "ipython",
    "version": 3
   },
   "file_extension": ".py",
   "mimetype": "text/x-python",
   "name": "python",
   "nbconvert_exporter": "python",
   "pygments_lexer": "ipython3",
   "version": "3.6.6"
  }
 },
 "nbformat": 4,
 "nbformat_minor": 2
}
